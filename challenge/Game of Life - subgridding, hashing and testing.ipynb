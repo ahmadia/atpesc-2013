{
 "metadata": {
  "name": "Game of Life - subgridding, hashing and testing"
 },
 "nbformat": 3,
 "nbformat_minor": 0,
 "worksheets": [
  {
   "cells": [
    {
     "cell_type": "markdown",
     "metadata": {},
     "source": [
      "# Designing a hash test function\n",
      "\n",
      "Here, we explore how to create arbitrary-dimensional subgrids in numpy, then compute a hash over them."
     ]
    },
    {
     "cell_type": "code",
     "collapsed": false,
     "input": [
      "import numpy as np\n",
      "from numba import autojit"
     ],
     "language": "python",
     "metadata": {},
     "outputs": [],
     "prompt_number": 399
    },
    {
     "cell_type": "code",
     "collapsed": false,
     "input": [
      "size = (4,4)"
     ],
     "language": "python",
     "metadata": {},
     "outputs": [],
     "prompt_number": 400
    },
    {
     "cell_type": "code",
     "collapsed": false,
     "input": [
      "A = np.random.randint(0,2,size)\n",
      "print A"
     ],
     "language": "python",
     "metadata": {},
     "outputs": [
      {
       "output_type": "stream",
       "stream": "stdout",
       "text": [
        "[[0 1 1 1]\n",
        " [1 0 1 0]\n",
        " [0 1 0 0]\n",
        " [1 1 1 1]]\n"
       ]
      }
     ],
     "prompt_number": 401
    },
    {
     "cell_type": "code",
     "collapsed": false,
     "input": [
      "ng = (2, 2)\n",
      "gridl = [s/n for s,n in zip(size,ng)]\n",
      "print gridl"
     ],
     "language": "python",
     "metadata": {},
     "outputs": [
      {
       "output_type": "stream",
       "stream": "stdout",
       "text": [
        "[2, 2]\n"
       ]
      }
     ],
     "prompt_number": 402
    },
    {
     "cell_type": "code",
     "collapsed": false,
     "input": [
      "gs = [[l * i for i in range(ngi)] for ngi,l in zip(ng,gridl)]\n",
      "print gs"
     ],
     "language": "python",
     "metadata": {},
     "outputs": [
      {
       "output_type": "stream",
       "stream": "stdout",
       "text": [
        "[[0, 2], [0, 2]]\n"
       ]
      }
     ],
     "prompt_number": 403
    },
    {
     "cell_type": "code",
     "collapsed": false,
     "input": [
      "import itertools"
     ],
     "language": "python",
     "metadata": {},
     "outputs": [],
     "prompt_number": 404
    },
    {
     "cell_type": "code",
     "collapsed": false,
     "input": [
      "gs = list(itertools.product(*gs))\n",
      "print gs"
     ],
     "language": "python",
     "metadata": {},
     "outputs": [
      {
       "output_type": "stream",
       "stream": "stdout",
       "text": [
        "[(0, 0), (0, 2), (2, 0), (2, 2)]\n"
       ]
      }
     ],
     "prompt_number": 405
    },
    {
     "cell_type": "code",
     "collapsed": false,
     "input": [
      "slices = [[(slice(i,i+l)) for i, l in zip(gsi,gridl)] for gsi in gs]\n",
      "sliceA = [slice(0,s) for s in size]\n",
      "print slices\n",
      "print sliceA"
     ],
     "language": "python",
     "metadata": {},
     "outputs": [
      {
       "output_type": "stream",
       "stream": "stdout",
       "text": [
        "[[slice(0, 2, None), slice(0, 2, None)], [slice(0, 2, None), slice(2, 4, None)], [slice(2, 4, None), slice(0, 2, None)], [slice(2, 4, None), slice(2, 4, None)]]\n",
        "[slice(0, 4, None), slice(0, 4, None)]\n"
       ]
      }
     ],
     "prompt_number": 406
    },
    {
     "cell_type": "code",
     "collapsed": false,
     "input": [
      "slicei = slices[0]\n",
      "print slicei"
     ],
     "language": "python",
     "metadata": {},
     "outputs": [
      {
       "output_type": "stream",
       "stream": "stdout",
       "text": [
        "[slice(0, 2, None), slice(0, 2, None)]\n"
       ]
      }
     ],
     "prompt_number": 407
    },
    {
     "cell_type": "code",
     "collapsed": false,
     "input": [
      "grids = [A[i] for i in slices]"
     ],
     "language": "python",
     "metadata": {},
     "outputs": [],
     "prompt_number": 408
    },
    {
     "cell_type": "code",
     "collapsed": false,
     "input": [
      "print A\n",
      "print sliceA\n",
      "for grid, slice in zip(grids,slices):\n",
      "    print grid\n",
      "    print slice"
     ],
     "language": "python",
     "metadata": {},
     "outputs": [
      {
       "output_type": "stream",
       "stream": "stdout",
       "text": [
        "[[0 1 1 1]\n",
        " [1 0 1 0]\n",
        " [0 1 0 0]\n",
        " [1 1 1 1]]\n",
        "[slice(0, 4, None), slice(0, 4, None)]\n",
        "[[0 1]\n",
        " [1 0]]\n",
        "[slice(0, 2, None), slice(0, 2, None)]\n",
        "[[1 1]\n",
        " [1 0]]\n",
        "[slice(0, 2, None), slice(2, 4, None)]\n",
        "[[0 1]\n",
        " [1 1]]\n",
        "[slice(2, 4, None), slice(0, 2, None)]\n",
        "[[0 0]\n",
        " [1 1]]\n",
        "[slice(2, 4, None), slice(2, 4, None)]\n"
       ]
      }
     ],
     "prompt_number": 409
    },
    {
     "cell_type": "code",
     "collapsed": false,
     "input": [
      "def hashfun(g, s):\n",
      "    \"\"\"Given a grid and a slice defining its range, compute hash using a hash function that can be reduced over subgrids by summation \"\"\"\n",
      "\n",
      "    X = np.mgrid[s]\n",
      "    h = 0\n",
      "    for i in range(X.shape[0]):\n",
      "        h += np.sum((X[i] + 1)*g)\n",
      "    return h\n",
      "    "
     ],
     "language": "python",
     "metadata": {},
     "outputs": [],
     "prompt_number": 410
    },
    {
     "cell_type": "code",
     "collapsed": false,
     "input": [
      "hashes = [hashfun(g, s) for g, s in zip(grids, slices)]\n",
      "print sum(hashes)\n",
      "print hashfun(A, sliceA)"
     ],
     "language": "python",
     "metadata": {},
     "outputs": [
      {
       "output_type": "stream",
       "stream": "stdout",
       "text": [
        "51\n",
        "51\n"
       ]
      }
     ],
     "prompt_number": 411
    },
    {
     "cell_type": "code",
     "collapsed": false,
     "input": [
      "X = np.mgrid[s]\n",
      "print X.shape"
     ],
     "language": "python",
     "metadata": {},
     "outputs": [
      {
       "output_type": "stream",
       "stream": "stdout",
       "text": [
        "(2, 2, 2)\n"
       ]
      }
     ],
     "prompt_number": 412
    },
    {
     "cell_type": "code",
     "collapsed": false,
     "input": [
      "ranges = [np.arange(s.start, s.stop) for s in slicei]\n",
      "print ranges"
     ],
     "language": "python",
     "metadata": {},
     "outputs": [
      {
       "output_type": "stream",
       "stream": "stdout",
       "text": [
        "[array([0, 1]), array([0, 1])]\n"
       ]
      }
     ],
     "prompt_number": 413
    },
    {
     "cell_type": "code",
     "collapsed": false,
     "input": [
      "@autojit\n",
      "def life_step(g, gnew):\n",
      "    \"\"\"Given a grid, compute one Game of Life step along the interior of the grid into gnew\"\"\"\n",
      "    \n",
      "    m,n = g.shape\n",
      "    \n",
      "    for i in range(1,m-1):\n",
      "        for j in range(1,n-1):\n",
      "\n",
      "            sum = 0\n",
      "\n",
      "            for ii in range(i-1,i+2):\n",
      "                for jj in range(j-1,j+2):\n",
      "                    if ii == i and jj == j:\n",
      "                        continue\n",
      "                    sum += g[ii,jj]\n",
      "            \n",
      "            if sum < 2 or sum > 3:\n",
      "                gnew[i,j] = 0\n",
      "            elif sum == 3:\n",
      "                gnew[i,j] = 1\n",
      "            else:\n",
      "                gnew[i,j] = g[i,j]    "
     ],
     "language": "python",
     "metadata": {},
     "outputs": [],
     "prompt_number": 414
    },
    {
     "cell_type": "code",
     "collapsed": false,
     "input": [
      "#A = np.ones(size, dtype=np.int64)\n",
      "A = np.random.randint(0,2,size)\n",
      "print A"
     ],
     "language": "python",
     "metadata": {},
     "outputs": [
      {
       "output_type": "stream",
       "stream": "stdout",
       "text": [
        "[[0 0 0 0]\n",
        " [0 0 0 0]\n",
        " [0 0 1 0]\n",
        " [0 0 1 0]]\n"
       ]
      }
     ],
     "prompt_number": 415
    },
    {
     "cell_type": "code",
     "collapsed": false,
     "input": [
      "B = np.zeros_like(A)"
     ],
     "language": "python",
     "metadata": {},
     "outputs": [],
     "prompt_number": 416
    },
    {
     "cell_type": "code",
     "collapsed": false,
     "input": [
      "life_step(A, B)"
     ],
     "language": "python",
     "metadata": {},
     "outputs": [],
     "prompt_number": 417
    },
    {
     "cell_type": "code",
     "collapsed": false,
     "input": [
      "print B"
     ],
     "language": "python",
     "metadata": {},
     "outputs": [
      {
       "output_type": "stream",
       "stream": "stdout",
       "text": [
        "[[0 0 0 0]\n",
        " [0 0 0 0]\n",
        " [0 0 0 0]\n",
        " [0 0 0 0]]\n"
       ]
      }
     ],
     "prompt_number": 418
    },
    {
     "cell_type": "markdown",
     "metadata": {},
     "source": [
      "# Designing Test Functions"
     ]
    },
    {
     "cell_type": "code",
     "collapsed": false,
     "input": [
      "import numpy.testing as npt\n",
      "\n",
      "size = (4,4)\n",
      "glide_size = (16,16)\n",
      "\n",
      "def test_ones():\n",
      "    \"\"\"check that all ones gives right result\"\"\"\n",
      "    A = np.ones(size, dtype=np.int64)\n",
      "    B = np.zeros_like(A)\n",
      "\n",
      "    life_step(A,B)\n",
      "\n",
      "    npt.assert_equal(A, np.ones(size))\n",
      "    npt.assert_equal(B, np.zeros(size))\n",
      "    \n",
      "    \n",
      "def test_zeros():\n",
      "    \"\"\"check that all zeros gives right result\"\"\"\n",
      "    \n",
      "    A = np.zeros(size, dtype=np.int64)\n",
      "    B = np.zeros_like(A)\n",
      "\n",
      "    life_step(A,B)\n",
      "\n",
      "    npt.assert_equal(A, np.zeros(size))\n",
      "    npt.assert_equal(B, np.zeros(size))\n",
      "    \n",
      "    \n",
      "def test_block():\n",
      "    \"\"\"check that an internal block gives the right result\"\"\"\n",
      "    \n",
      "    A = np.zeros(size, dtype=np.int64)\n",
      "    A[1:2][1:2] = 1\n",
      "    B = np.zeros_like(A)\n",
      "    C = A.copy()\n",
      "    \n",
      "    life_step(A,B)\n",
      "\n",
      "    npt.assert_equal(A, B)\n",
      "    npt.assert_equal(A, C)    \n",
      "    \n",
      "    \n",
      "def test_two_blocks():\n",
      "    \"\"\"check that an internal block is correctly preserved\"\"\"\n",
      "    \n",
      "    A = np.zeros(size, dtype=np.int64)\n",
      "    A[1:2][1:2] = 1\n",
      "    B = np.zeros_like(A)\n",
      "    C = A.copy()\n",
      "\n",
      "    life_step(A,B)\n",
      "    life_step(B,A)\n",
      "    \n",
      "    npt.assert_equal(A, B)\n",
      "    npt.assert_equal(A, C)\n",
      "    \n",
      "def test_glider():\n",
      "    \"\"\"check that a glider moves correctly\"\"\"\n",
      "\n",
      "    G = np.zeros((3,3), dtype=np.int64)\n",
      "    G[0,1] = 1\n",
      "    G[1,2] = 1\n",
      "    G[2,0:3] = 1\n",
      "    \n",
      "    A = np.zeros(glide_size, dtype=np.int64)\n",
      "    B = np.zeros_like(A)\n",
      "\n",
      "    A[1:4,1:4] = G\n",
      "    \n",
      "    life_step(A,B)\n",
      "    \n",
      "    C = np.zeros_like(A)\n",
      "    C[2][[1,3]] = 1\n",
      "    C[3,2:4] = 1\n",
      "    C[4,2] = 1\n",
      "    \n",
      "    npt.assert_equal(B, C)\n"
     ],
     "language": "python",
     "metadata": {},
     "outputs": [],
     "prompt_number": 419
    },
    {
     "cell_type": "code",
     "collapsed": false,
     "input": [
      "test_ones()\n",
      "test_zeros()\n",
      "test_block()\n",
      "test_two_blocks()\n",
      "test_glider()"
     ],
     "language": "python",
     "metadata": {},
     "outputs": [],
     "prompt_number": 420
    },
    {
     "cell_type": "code",
     "collapsed": false,
     "input": [
      "G = np.zeros((3,3), dtype=np.int64)\n",
      "G[0,1] = 1\n",
      "G[1,2] = 1\n",
      "G[2,0:3] = 1\n",
      "print G\n",
      "\n",
      "A = np.zeros((5,5), dtype=np.int64)\n",
      "A[1:4,1:4] = G\n",
      "print A"
     ],
     "language": "python",
     "metadata": {},
     "outputs": [
      {
       "output_type": "stream",
       "stream": "stdout",
       "text": [
        "[[0 1 0]\n",
        " [0 0 1]\n",
        " [1 1 1]]\n",
        "[[0 0 0 0 0]\n",
        " [0 0 1 0 0]\n",
        " [0 0 0 1 0]\n",
        " [0 1 1 1 0]\n",
        " [0 0 0 0 0]]\n"
       ]
      }
     ],
     "prompt_number": 421
    },
    {
     "cell_type": "markdown",
     "metadata": {},
     "source": [
      "# See the files test_life.py and bench_life.py"
     ]
    }
   ],
   "metadata": {}
  }
 ]
}